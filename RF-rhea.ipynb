{
 "cells": [
  {
   "cell_type": "code",
   "execution_count": null,
   "metadata": {},
   "outputs": [],
   "source": [
    "import pandas as pd\n",
    "import numpy as np\n",
    "from sklearn.preprocessing import StandardScaler\n",
    "from sklearn.pipeline import Pipeline\n",
    "import matplotlib.pyplot as plt\n",
    "from matplotlib import style\n",
    "from io import StringIO\n",
    "from pandas import read_csv\n",
    "from sklearn.model_selection import train_test_split\n",
    "from  IPython import display\n",
    "import pathlib\n",
    "import shutil\n",
    "import tempfile\n",
    "from sklearn.preprocessing import PowerTransformer\n",
    "import scipy.stats\n",
    "from scipy.stats.stats import pearsonr\n",
    "from sklearn import preprocessing\n",
    "from sklearn.pipeline import Pipeline, FeatureUnion\n",
    "from sklearn.base import TransformerMixin \n",
    "from sklearn.preprocessing import MinMaxScaler\n",
    "from sklearn.metrics import mean_squared_error\n",
    "from sklearn.ensemble import RandomForestRegressor\n",
    "from sklearn import metrics"
   ]
  },
  {
   "cell_type": "code",
   "execution_count": null,
   "metadata": {},
   "outputs": [],
   "source": [
    "column_names = ['paper','Ti','Nb','Hf','Zr', 'Al','Ta', 'Mo','W','V', \n",
    "                 'Cr','Si','plas','homT', 'homt','ar', 'ardiff','Vec', 'target','Hmix', 'Smix'] #\n",
    "dataframe = pd.read_csv(\"Hardness.csv\", names=column_names, header=None, sep=';', decimal='.')\n",
    "dataset = dataframe.values\n",
    "#print(dataset)\n",
    "np.random.shuffle(dataset)"
   ]
  },
  {
   "cell_type": "code",
   "execution_count": null,
   "metadata": {},
   "outputs": [],
   "source": [
    "Nb = dataframe[\"Nb\"]\n",
    "Ti =  dataframe[\"Ti\"]\n",
    "Hf = dataframe[\"Hf\"]\n",
    "Zr = dataframe[\"Zr\"]\n",
    "Al = dataframe[\"Al\"]\n",
    "Ta = dataframe[\"Ta\"]\n",
    "Mo = dataframe[\"Mo\"]\n",
    "W = dataframe[\"W\"]\n",
    "V = dataframe[\"V\"]\n",
    "Cr = dataframe[\"Cr\"]\n",
    "Si = dataframe[\"Si\"]\n",
    "plas = dataframe[\"plas\"]\n",
    "homT = dataframe[\"homT\"]\n",
    "homt = dataframe[\"homt\"]\n",
    "ar = dataframe[\"ar\"]\n",
    "ardiff = dataframe[\"ardiff\"]\n",
    "Vec = dataframe[\"Vec\"]\n",
    "paper = dataframe[\"paper\"]\n",
    "target = dataframe[\"target\"]\n",
    "#temperature = dataframe['temperature']\n",
    "#Tm = dataframe[\"Tm\"]\n",
    "Hmix = dataframe[\"Hmix\"]\n",
    "Smix = dataframe[\"Smix\"]"
   ]
  },
  {
   "cell_type": "code",
   "execution_count": null,
   "metadata": {},
   "outputs": [],
   "source": [
    "dataframe2 =  pd.concat([Ti, Nb, Hf, Zr, Al, Ta, Mo, W, V, Cr, plas, homT, homt, ardiff, Vec, Hmix, Smix, target], axis=1) #temperature, Tm,\n",
    "dataset2 = dataframe2.values #Ti, Nb, Hf, Zr, Al, Ta, Mo, W, V, Cr, Si, \n",
    "\n",
    "df=pd.DataFrame(dataset2)"
   ]
  },
  {
   "cell_type": "code",
   "execution_count": null,
   "metadata": {},
   "outputs": [],
   "source": [
    "rmse_train=500\n",
    "rmse_test=500\n",
    "i=0\n",
    "\n",
    "data_train, data_test= train_test_split(df, test_size=0.20, shuffle=True)\n",
    "\n",
    "data_train2=pd.DataFrame(data_train)\n",
    "data_test2=pd.DataFrame(data_test)\n",
    "\n",
    "x_train = data_train2.iloc[:,0:-1]\n",
    "x_test = data_test2.iloc[:,0:-1]\n",
    "y_train = data_train2.iloc[:,-1] \n",
    "y_test = data_test2.iloc[:,-1]\n",
    "\n",
    "\n",
    "model = RandomForestRegressor(n_estimators=300,min_samples_leaf=2,max_features=10)                               \n",
    "model.fit(x_train,y_train)\n",
    "\n",
    "prediction = model.predict(x_test)\n",
    "\n",
    "rmse_test = metrics.mean_squared_error(y_test,prediction,squared=False)\n",
    "rmse_train = metrics.mean_squared_error(y_train,model.predict(x_train),squared=False)\n",
    "\n",
    "R2_test  = model.score(x_test,y_test)\n",
    "R2_train = model.score(x_train,y_train)\n",
    "\n",
    "  \n"
   ]
  },
  {
   "cell_type": "code",
   "execution_count": null,
   "metadata": {},
   "outputs": [],
   "source": [
    "print(rmse_test)\n",
    "rmse_train\n"
   ]
  },
  {
   "cell_type": "code",
   "execution_count": null,
   "metadata": {},
   "outputs": [],
   "source": [
    "train_result = pd.concat([pd.DataFrame(x_train).reset_index(drop=True),pd.DataFrame(y_train).reset_index(drop=True),pd.DataFrame(model.predict(x_train))],axis = 1,ignore_index= True)\n",
    "test_result = pd.concat([pd.DataFrame(x_test).reset_index(drop=True),pd.DataFrame(y_test).reset_index(drop=True),pd.DataFrame(prediction)],axis = 1,ignore_index= True)\n",
    "\n",
    "result = pd.concat([test_result, train_result],axis = 0,ignore_index= True)\n",
    "result"
   ]
  },
  {
   "cell_type": "code",
   "execution_count": null,
   "metadata": {},
   "outputs": [],
   "source": [
    "result.to_csv (r'C:\\Users\\acatal19\\Desktop\\hea\\data setler upgraded\\results_rf\\losalamos_dataframe.csv', index = False, header=True,sep=',', decimal='.')"
   ]
  }
 ],
 "metadata": {
  "kernelspec": {
   "display_name": "Python 3 (ipykernel)",
   "language": "python",
   "name": "python3"
  },
  "language_info": {
   "codemirror_mode": {
    "name": "ipython",
    "version": 3
   },
   "file_extension": ".py",
   "mimetype": "text/x-python",
   "name": "python",
   "nbconvert_exporter": "python",
   "pygments_lexer": "ipython3",
   "version": "3.9.13"
  }
 },
 "nbformat": 4,
 "nbformat_minor": 4
}
