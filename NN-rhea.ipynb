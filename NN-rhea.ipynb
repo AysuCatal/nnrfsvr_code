{
 "cells": [
  {
   "cell_type": "markdown",
   "metadata": {},
   "source": [
    "# This code is written by A. Aysu Çatal (a.aysucatal@gmail.com) to design RHEA with literature data."
   ]
  },
  {
   "cell_type": "code",
   "execution_count": null,
   "metadata": {},
   "outputs": [],
   "source": [
    "import pandas as pd\n",
    "import numpy as np\n",
    "import tensorflow as tf\n",
    "\n",
    "import seaborn as sns\n",
    "\n",
    "from sklearn.model_selection import cross_val_score\n",
    "from sklearn.model_selection import KFold, StratifiedKFold\n",
    "from sklearn.preprocessing import StandardScaler\n",
    "from sklearn.pipeline import Pipeline\n",
    "import matplotlib.pyplot as plt\n",
    "from matplotlib import style\n",
    "from io import StringIO\n",
    "from pandas import read_csv\n",
    "from sklearn.metrics import mean_squared_error\n",
    "\n",
    "from sklearn.model_selection import train_test_split\n",
    "from  IPython import display\n",
    "import pathlib\n",
    "import shutil\n",
    "import tempfile\n",
    "\n",
    "from sklearn.preprocessing import PowerTransformer\n",
    "import scipy.stats\n",
    "from scipy.stats.stats import pearsonr\n",
    "print(tf.__version__)\n",
    "\n",
    "from tensorflow import keras\n",
    "from keras.models import Sequential\n",
    "from tensorflow.keras import layers\n",
    "from tensorflow.keras import initializers\n",
    "from keras.layers import Dense\n",
    "from keras import regularizers, losses\n",
    "\n",
    "from sklearn.metrics import mean_squared_error\n",
    "from sklearn.metrics import r2_score\n",
    "from sklearn import linear_model\n",
    "\n",
    "import math"
   ]
  },
  {
   "cell_type": "code",
   "execution_count": null,
   "metadata": {
    "scrolled": true
   },
   "outputs": [],
   "source": [
    "column_names = ['paper','Ti','Nb','Hf','Zr', 'Al','Ta', 'Mo','W','V', \n",
    "                 'Cr', 'Si', 'plas','homT', 'homt','ar', 'ardiff','Vec', 'target', 'Hmix', 'Smix'] # 'temperature','Tm',\n",
    "dataframe = pd.read_csv(\"Hardness.csv\", names=column_names, header=None, sep=';', decimal='.')\n",
    "dataset = dataframe.values\n",
    "np.random.shuffle(dataset)\n",
    "dataframe"
   ]
  },
  {
   "cell_type": "code",
   "execution_count": null,
   "metadata": {},
   "outputs": [],
   "source": [
    "Nb = dataframe[\"Nb\"]\n",
    "Ti =  dataframe[\"Ti\"]\n",
    "Hf = dataframe[\"Hf\"]\n",
    "Zr = dataframe[\"Zr\"]\n",
    "Al = dataframe[\"Al\"]\n",
    "Ta = dataframe[\"Ta\"]\n",
    "Mo = dataframe[\"Mo\"]\n",
    "W = dataframe[\"W\"]\n",
    "V = dataframe[\"V\"]\n",
    "Cr = dataframe[\"Cr\"]\n",
    "Si = dataframe[\"Si\"]\n",
    "plas = dataframe[\"plas\"]\n",
    "homT = dataframe[\"homT\"]\n",
    "homt = dataframe[\"homt\"]\n",
    "ar = dataframe[\"ar\"]\n",
    "ardiff = dataframe[\"ardiff\"]\n",
    "Vec = dataframe[\"Vec\"]\n",
    "paper = dataframe[\"paper\"]\n",
    "target = dataframe[\"target\"]\n",
    "#temperature = dataframe['temperature']\n",
    "#Tm = dataframe[\"Tm\"]\n",
    "Hmix = dataframe[\"Hmix\"]\n",
    "Smix = dataframe[\"Smix\"]"
   ]
  },
  {
   "cell_type": "code",
   "execution_count": null,
   "metadata": {},
   "outputs": [],
   "source": [
    "dataframe2 =  pd.concat([Ti, Nb, Hf, Zr, Al, Ta, Mo, W, V, Cr, Si, ar, plas, homT, homt, ardiff, Vec, Hmix, Smix,  target], axis=1) # temperature, Tm,\n",
    "dataset2 = dataframe2.values # Ti, Nb, Hf, Zr, Al, Ta, Mo, W, V, Cr, Si,  temperature, Tm,\n",
    "df=pd.DataFrame(dataset2)\n",
    "df"
   ]
  },
  {
   "cell_type": "code",
   "execution_count": null,
   "metadata": {
    "scrolled": true
   },
   "outputs": [],
   "source": [
    "story = {}\n",
    "\n",
    "batch_size = 32\n",
    "no_epochs = 1000\n",
    "\n",
    "#k-fold cv\n",
    "num_folds = 5\n",
    "mse_per_fold = []\n",
    "loss_per_fold = []\n",
    "scores=[]\n",
    "j=0\n",
    "# K-fold Cross Validation model evaluation\n",
    "kfold = KFold(n_splits=num_folds, shuffle=True)\n",
    "minmse = 1000000\n",
    "best=0\n",
    "\n",
    "tf.keras.optimizers.Adam(\n",
    "    learning_rate=0.0003, beta_1=0.9, beta_2=0.999, epsilon=1e-07, amsgrad=False,\n",
    "    name='Adam'\n",
    ")\n",
    "\n",
    "\n",
    "fold_no = 1\n",
    "for train_index, test_index in kfold.split(inputs):\n",
    "\n",
    "    X_train, X_test, Y_train, Y_test = inputs[train_index],  inputs[test_index], targets[train_index], targets[test_index]\n",
    "    \n",
    "    pt_x=PowerTransformer(method='yeo-johnson', standardize=True)\n",
    "    pt_y=PowerTransformer(method='yeo-johnson', standardize=True)\n",
    "    pt_x.fit(X_train)\n",
    "   \n",
    "    X_train_trans=pt_x.transform(X_train)\n",
    "    X_test_trans=pt_x.transform(X_test)\n",
    "    pt_y.fit(Y_train.reshape(-1,1))\n",
    "    Y_train_trans=pt_y.transform(Y_train.reshape(-1,1))\n",
    "    Y_test_trans=pt_y.transform(Y_test.reshape(-1,1))\n",
    "   \n",
    "\n",
    "    \n",
    "    node=37\n",
    "    alfa=0.001\n",
    "    # DEFINE THE MODEL \n",
    "    initializer = tf.keras.initializers.GlorotNormal(seed=None)\n",
    "    model = Sequential([\n",
    "        (Dense(node, input_dim=19, kernel_initializer=initializer, activation='relu', kernel_regularizer=regularizers.l2(alfa))),\n",
    "        (Dense(node, kernel_initializer=initializer, activation='relu',kernel_regularizer=regularizers.l2(alfa))),\n",
    "        #(Dense(node, kernel_initializer=initializer, activation='relu',kernel_regularizer=regularizers.l2(alfa))),\n",
    "        #(Dense(node, kernel_initializer=initializer, activation='relu',kernel_regularizer=regularizers.l2(alfa))),\n",
    "        (Dense(1, kernel_initializer=initializer, activation='linear'))\n",
    "    ])\n",
    "    \n",
    "\n",
    "    # COMPILE\n",
    "    model.compile(loss='mse',\n",
    "                optimizer= 'Adam',\n",
    "                metrics=['mse'])\n",
    "\n",
    "    # FIT DATA TO THE MODEL\n",
    "    history = model.fit(X_train_trans, Y_train_trans,\n",
    "              batch_size=batch_size,\n",
    "              epochs=no_epochs,\n",
    "              verbose=0)\n",
    "\n",
    "    # CALCULATE THE SCORES\n",
    "\n",
    "    scores.append(model.evaluate(X_test_trans, Y_test_trans, verbose=0))\n",
    "    print(f'Score for fold {fold_no}: {model.metrics_names[0]} of {scores[j][:1]}; {model.metrics_names[1]} of {scores[j][:2]}')\n",
    "    mse_per_fold.append(scores[j][:1])\n",
    "    loss_per_fold.append(scores[j][:1])\n",
    "    mseA=loss_per_fold.append(scores[j][:1])\n",
    "\n",
    "    story[fold_no] = model\n",
    "\n",
    "    if float(str(mse_per_fold[j])[1:-1]) < minmse:\n",
    "        X_train_min = X_train\n",
    "        X_test_min = X_test\n",
    "        Y_train_min = Y_train\n",
    "        Y_test_min = Y_test\n",
    "        X_train_trans_min = X_train_trans\n",
    "        X_test_trans_min = X_test_trans\n",
    "        Y_train_trans_min = Y_train_trans\n",
    "        Y_test_trans_min = Y_test_trans\n",
    "        besto = fold_no\n",
    "        \n",
    "        minmse = float(str(mse_per_fold[j])[1:-1])\n",
    "\n",
    "\n",
    "    # next fold:\n",
    "    fold_no = fold_no + 1\n",
    "    j = j + 1\n",
    "\n",
    "### END OF KFOLD LOOP\n",
    "\n",
    "\n",
    "# == AVERAGE SCORES ==\n",
    "#print('------------------------------------------------------------------------')\n",
    "#print('Score per fold')\n",
    "for i in range(0, len(mse_per_fold)):\n",
    "    print('------------------------------------------------------------------------')\n",
    "    print(f'> Fold {i+1} - Loss: {loss_per_fold[i]} - MSE: {mse_per_fold[i]}')\n",
    "    print('------------------------------------------------------------------------')\n",
    "print('Average scores for all folds:')\n",
    "print(f'> MSE: {np.mean(mse_per_fold)} (+- {np.std(mse_per_fold)})')\n",
    "print(f'> Loss: {np.mean(loss_per_fold)}')\n",
    "print('------------------------------------------------------------------------')\n"
   ]
  },
  {
   "cell_type": "code",
   "execution_count": null,
   "metadata": {},
   "outputs": [],
   "source": [
    "story[best].evaluate(X_test_trans_min,Y_test_trans_min)\n",
    "modelbest = story[best]\n",
    "test_predictions = modelbest.predict(X_test_trans_min).flatten()\n",
    "train_predictions = modelbest.predict(X_train_trans_min).flatten()"
   ]
  },
  {
   "cell_type": "code",
   "execution_count": null,
   "metadata": {},
   "outputs": [],
   "source": [
    "### PLOTS FOR KFOLD \n",
    "result_test_trans = modelbest.evaluate(X_test_trans_min, Y_test_trans_min,  verbose=0)\n",
    "print(result_test_trans)\n",
    "\n",
    "a = plt.axes(aspect='equal')\n",
    "plt.scatter(Y_test_trans_min, test_predictions)\n",
    "plt.xlabel('True ')\n",
    "plt.ylabel('Predictions ')\n",
    "lims = [-3,3]\n",
    "plt.xlim(lims)\n",
    "plt.ylim(lims)\n",
    "_ = plt.plot(lims, lims)"
   ]
  },
  {
   "cell_type": "code",
   "execution_count": null,
   "metadata": {},
   "outputs": [],
   "source": [
    "result_train_trans = modelbest.evaluate(X_train_trans_min, Y_train_trans_min,  verbose=0)\n",
    "print(result_train_trans)\n",
    "\n",
    "a = plt.axes(aspect='equal')\n",
    "plt.scatter(Y_train_trans_min, train_predictions)\n",
    "plt.xlabel('True ')\n",
    "plt.ylabel('Predictions ')\n",
    "import matplotlib.pyplot as plt\n",
    "plt.style.use('classic')\n",
    "lims = [-3,3]\n",
    "plt.xlim(lims)\n",
    "plt.ylim(lims)\n",
    "\n",
    "_ = plt.plot(lims, lims)"
   ]
  },
  {
   "cell_type": "code",
   "execution_count": null,
   "metadata": {},
   "outputs": [],
   "source": [
    "pt_y_best=PowerTransformer(method='yeo-johnson', standardize=True)\n",
    "pt_y_best.fit(Y_train_min.reshape(-1,1))\n",
    "train_predictions_untrans = pt_y_best.inverse_transform(train_predictions.reshape(-1,1))\n",
    "test_predictions_untrans = pt_y_best.inverse_transform(test_predictions.reshape(-1,1))\n"
   ]
  },
  {
   "cell_type": "code",
   "execution_count": null,
   "metadata": {},
   "outputs": [],
   "source": [
    "loss_test = mean_squared_error(test_predictions_untrans,Y_test_min)\n",
    "loss_train = mean_squared_error(train_predictions_untrans, Y_train_min)\n",
    "print(np.sqrt(np.mean(loss_test)))\n",
    "np.sqrt(np.mean(loss_train))"
   ]
  },
  {
   "cell_type": "code",
   "execution_count": null,
   "metadata": {},
   "outputs": [],
   "source": [
    "a = plt.axes(aspect='equal')\n",
    "plt.scatter(test_predictions_untrans,Y_test_min, c='#ff7f0e')\n",
    "plt.scatter(train_predictions_untrans, Y_train_min, c='#17becf')\n",
    "plt.xlabel('True ')\n",
    "plt.ylabel('Predictions ')\n",
    "lims = [0,1000]\n",
    "plt.xlim(lims)\n",
    "plt.ylim(lims)\n",
    "_ = plt.plot(lims, lims)"
   ]
  },
  {
   "cell_type": "code",
   "execution_count": null,
   "metadata": {},
   "outputs": [],
   "source": [
    "X_train_min = pd.DataFrame(X_train_min)\n",
    "Y_train_min = pd.DataFrame(Y_train_min)\n",
    "train_predictions_untrans = pd.DataFrame(train_predictions_untrans)\n",
    "\n",
    "result_train=pd.concat([X_train_min, train_predictions_untrans, Y_train_min], axis=1)\n",
    "\n",
    "X_test_min = pd.DataFrame(X_test_min)\n",
    "Y_test_min = pd.DataFrame(Y_test_min)\n",
    "test_predictions_untrans = pd.DataFrame(test_predictions_untrans)\n",
    "\n",
    "result_test=pd.concat([X_test_min, test_predictions_untrans, Y_test_min], axis=1)\n",
    "\n",
    "\n",
    "results = pd.concat([result_test, result_train], axis=0)\n"
   ]
  },
  {
   "cell_type": "code",
   "execution_count": null,
   "metadata": {},
   "outputs": [],
   "source": [
    "X_test.shape"
   ]
  },
  {
   "cell_type": "code",
   "execution_count": null,
   "metadata": {},
   "outputs": [],
   "source": [
    "results.to_csv (r'C:\\Users\\acatal19\\Desktop\\hea\\data setler upgraded\\results_NN\\eniyiuc_data.csv', index = False, header=True,sep=',', decimal='.')\n"
   ]
  }
 ],
 "metadata": {
  "kernelspec": {
   "display_name": "Python 3 (ipykernel)",
   "language": "python",
   "name": "python3"
  },
  "language_info": {
   "codemirror_mode": {
    "name": "ipython",
    "version": 3
   },
   "file_extension": ".py",
   "mimetype": "text/x-python",
   "name": "python",
   "nbconvert_exporter": "python",
   "pygments_lexer": "ipython3",
   "version": "3.9.13"
  }
 },
 "nbformat": 4,
 "nbformat_minor": 4
}
